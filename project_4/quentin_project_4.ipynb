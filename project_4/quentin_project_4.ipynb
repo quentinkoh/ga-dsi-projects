{
 "cells": [
  {
   "cell_type": "markdown",
   "metadata": {},
   "source": [
    "<img src=\"http://imgur.com/1ZcRyrc.png\" style=\"float: left; margin: 15px; height: 80px\">\n",
    "\n",
    "# Project 4: Web Scraping Job Postings\n",
    "## Business Case Overview\n",
    "\n",
    "---\n",
    "You're working as a data scientist for a contracting firm that's rapidly expanding. Now that they have their most valuable employee (you!), they need to leverage data to win more contracts. Your firm offers technology and scientific solutions and wants to be competitive in the hiring market. Your principal has two main objectives:\n",
    "\n",
    "Determine the industry factors that are most important in predicting the salary amounts for these data.\n",
    "Determine the factors that distinguish job categories and titles from each other. For example, can required skills accurately predict job title?\n",
    "To limit the scope, your principal has suggested that you focus on data-related job postings, e.g. data scientist, data analyst, research scientist, business intelligence, and any others you might think of. You may also want to decrease the scope by limiting your search to a single region.\n",
    "\n",
    "Hint: Aggregators like Indeed.com regularly pool job postings from a variety of markets and industries.\n",
    "\n",
    "**Goal:** Scrape your own data from a job aggregation tool like Indeed.com in order to collect the data to best answer these two questions.\n",
    "\n",
    "---\n",
    "## Directions\n",
    "In this project you will be leveraging a variety of skills. The first will be to use the web-scraping and/or API techniques you've learned to collect data on data jobs from Indeed.com or another aggregator. Once you have collected and cleaned the data, you will use it to answer the two questions described above.\n",
    "\n",
    "---\n",
    "## Requirements\n",
    "1. Scrape and prepare your own data.\n",
    "\n",
    "2. **Create and compare at least two models for each section.** One of the two models should be a decision tree or ensemble model. The other can be a classifier or regression of your choosing (e.g. Ridge, logistic regression, KNN, SVM, etc).\n",
    "\n",
    "    - Section 1: Job Salary Trends\n",
    "    - Section 2: Job Category Factors\n",
    "3. Prepare a polished Jupyter Notebook with your analysis for a peer audience of data scientists.\n",
    "\n",
    "    - Make sure to clearly describe and label each section.\n",
    "    - Comment on your code so that others could, in theory, replicate your work.\n",
    "    \n",
    "4. A brief writeup in an executive summary, written for a non-technical audience.\n",
    "\n",
    "    - Writeups should be at least 500-1000 words, defining any technical terms, explaining your approach, as well as any risks and limitations.\n",
    "\n",
    "#### BONUS\n",
    "1. Answer the salary discussion by using your model to explain the tradeoffs between detecting high vs low salary positions.\n",
    "2. Convert your executive summary into a public blog post of at least 500 words, in which you document your approach in a tutorial for other aspiring data scientists. Link to this in your notebook.\n",
    "\n",
    "## Suggestions for Getting Started\n",
    "1. Collect data from [Indeed.com](https://www.indeed.com.sg/?r=us) (or another aggregator) on data-related jobs to use in predicting salary trends for your analysis.\n",
    "    - Select and parse data from at least 1000 postings for jobs, potentially from multiple location searches.\n",
    "2. Find out what factors most directly impact salaries (e.g. title, location, department, etc).\n",
    "    - Test, validate, and describe your models. What factors predict salary category? How do your models perform?\n",
    "3. Discover which features have the greatest importance when determining a low vs. high paying job.\n",
    "    - Your Boss is interested in what overall features hold the greatest significance.\n",
    "    - HR is interested in which SKILLS and KEY WORDS hold the greatest significance.\n",
    "4. Author an executive summary that details the highlights of your analysis for a non-technical audience.\n",
    "5. If tackling the bonus question, try framing the salary problem as a classification problem detecting low vs. high salary positions."
   ]
  },
  {
   "cell_type": "markdown",
   "metadata": {},
   "source": [
    "### QUESTION 1: Factors that impact salary\n",
    "To predict salary you will be building either a classification or regression model, using features like the location, title, and summary of the job. If framing this as a regression problem, you will be estimating the listed salary amounts. You may instead choose to frame this as a classification problem, in which case you will create labels from these salaries (high vs. low salary, for example) according to thresholds (such as median salary).\n",
    "\n",
    "You have learned a variety of new skills and models that may be useful for this problem:\n",
    "- NLP\n",
    "- Unsupervised learning and dimensionality reduction techniques (PCA, clustering)\n",
    "- Ensemble methods and decision tree models\n",
    "- SVM models\n",
    "\n",
    "Whatever you decide to use, the most important thing is to justify your choices and interpret your results. *Communication of your process is key.* Note that most listings **DO NOT** come with salary information. You'll need to able to extrapolate or predict the expected salaries for these listings."
   ]
  },
  {
   "cell_type": "markdown",
   "metadata": {},
   "source": [
    "### Web Scraping Job Postings\n",
    "    There's a dropbox link provided below (right after markdown 'Question 1') to download the scraped data in .csv format."
   ]
  },
  {
   "cell_type": "code",
   "execution_count": 1,
   "metadata": {},
   "outputs": [],
   "source": [
    "# importing libraries\n",
    "import numpy as np\n",
    "from numpy import percentile\n",
    "import pandas as pd\n",
    "import matplotlib.pyplot as plt\n",
    "import seaborn as sns\n",
    "import requests\n",
    "import re\n",
    "import time\n",
    "\n",
    "sns.set_style(\"darkgrid\")\n",
    "%matplotlib inline\n",
    "\n",
    "pd.set_option('display.max_rows',1000)\n",
    "pd.set_option('display.max_columns',1000)\n",
    "\n",
    "from scrapy.selector import Selector\n",
    "from scrapy.http import HtmlResponse\n",
    "\n",
    "from bs4 import BeautifulSoup\n",
    "import urllib\n",
    "\n",
    "from selenium import webdriver\n",
    "from selenium.webdriver.common.keys import Keys\n",
    "from selenium.webdriver.chrome.options import Options\n",
    "from selenium.webdriver.support.ui import WebDriverWait\n",
    "from selenium.webdriver.support import expected_conditions as EC\n",
    "from selenium.webdriver.common.by import By\n",
    "from selenium.common.exceptions import TimeoutException\n",
    "\n",
    "from sklearn.preprocessing import MinMaxScaler\n",
    "from sklearn.preprocessing import StandardScaler\n",
    "\n",
    "from sklearn.model_selection import train_test_split, cross_val_score\n",
    "\n",
    "from sklearn.metrics import accuracy_score, confusion_matrix, classification_report\n",
    "\n",
    "from sklearn.ensemble import RandomForestClassifier\n",
    "\n",
    "from sklearn.feature_extraction.text import CountVectorizer"
   ]
  },
  {
   "cell_type": "code",
   "execution_count": null,
   "metadata": {},
   "outputs": [],
   "source": [
    "# accessing info from mycareersfuture.sg\n",
    "# and disable pop-ups\n",
    "chrome_options = webdriver.ChromeOptions()\n",
    "prefs = {'profile.default_content_setting_values_notifications':2}\n",
    "chrome_options.add_experimental_option('prefs',prefs)\n",
    "\n",
    "driver = webdriver.Chrome(r'C:\\Users\\Quentin Koh\\Desktop\\chromedriver.exe',options=chrome_options)\n",
    "driver.get('https://www.mycareersfuture.sg/')\n",
    "\n",
    "time.sleep(3)"
   ]
  },
  {
   "cell_type": "code",
   "execution_count": null,
   "metadata": {},
   "outputs": [],
   "source": [
    "# start web scraping\n",
    "job_titles = ['data scientist','data analyst','data engineer','business analyst',\n",
    "              'machine learning engineer','python developer','sql','analytics']       \n",
    "\n",
    "job_list = []\n",
    "\n",
    "for title in job_titles:\n",
    "    search_list = []\n",
    "    \n",
    "    elem = driver.find_element_by_name('search-text')\n",
    "    elem.clear()\n",
    "    elem.send_keys(title)\n",
    "    elem.send_keys(Keys.RETURN)\n",
    "    \n",
    "    time.sleep(12)\n",
    "    \n",
    "    try:\n",
    "        driver.find_element_by_xpath(\"//span[@class='tr pointer OverlayNavigation__icon-cross___1wfSE']\").click()\n",
    "    except:\n",
    "        pass\n",
    "    \n",
    "    time.sleep(12)\n",
    "    \n",
    "    try:\n",
    "        driver.find_element_by_xpath(\"//button[@class='joyride-tooltip__close']\").click()\n",
    "    except:\n",
    "        pass\n",
    "    \n",
    "    # start scraping to get job details for this particular job title\n",
    "    \n",
    "    # html label for first page source\n",
    "    html1 = driver.page_source\n",
    "    \n",
    "    # covert html1 to soup object\n",
    "    soup1 = BeautifulSoup(html1,'lxml')\n",
    "    \n",
    "    # jobs associated with searched title that are available on selected page\n",
    "    jobs_first_page = Selector(text=html1).xpath(\"//h1[@class='f4-5 fw6 mv0 brand-sec dib mr2 JobCard__jobtitle___3HqOw']/text()\").extract()    \n",
    "    \n",
    "    # calculating how many job pages for the associated job title\n",
    "    jobs_found = soup1.find('span',{'id':'search-results-message'}).text\n",
    "    \n",
    "    # using regex to find the no. of jobs and then calculate no. of job pages\n",
    "    match = re.search(r'\\d+[,\\d+]*',jobs_found)\n",
    "    \n",
    "    if match:\n",
    "        jobs_num = int(match.group().replace(',',''))\n",
    "    else:\n",
    "        print('error or no jobs found!')\n",
    "\n",
    "    pages_total = int(np.ceil(jobs_num/len(jobs_first_page)))\n",
    "    \n",
    "    print('{} job page\\n'.format(title))\n",
    "    \n",
    "    for page in range(pages_total): \n",
    "        \n",
    "        # html label\n",
    "        html1 = driver.page_source\n",
    "\n",
    "        # covert html1 to soup object\n",
    "        soup1 = BeautifulSoup(html1,'lxml')\n",
    "        \n",
    "        jobs_in_page = Selector(text=html1).xpath(\"//h1[@class='f4-5 fw6 mv0 brand-sec dib mr2 JobCard__jobtitle___3HqOw']/text()\").extract()\n",
    "        \n",
    "        for count in range(len(jobs_in_page)): \n",
    "            details = {}\n",
    "            driver.find_element_by_id('job-card-' + str(count)).click()\n",
    "            \n",
    "            time.sleep(3)\n",
    "            \n",
    "            html3 = driver.page_source\n",
    "            soup3 = BeautifulSoup(html3,'lxml')\n",
    "    \n",
    "            details['title'] = title\n",
    "            \n",
    "            if isinstance(soup3.find('p',{'name':'company'}), type(None)):\n",
    "                    details['company'] = None\n",
    "            else:\n",
    "                details['company'] = soup3.find('p',{'name':'company'}).text\n",
    "\n",
    "            if isinstance(soup3.find('h1',{'id':'job_title'}), type(None)):\n",
    "                details['job'] = None\n",
    "            else:\n",
    "                details['job'] = soup3.find('h1',{'id':'job_title'}).text\n",
    "\n",
    "            if isinstance(soup3.find('p',{'id':'address'}), type(None)):\n",
    "                details['address'] = None\n",
    "            else:\n",
    "                details['address'] = soup3.find('p',{'id':'address'}).text\n",
    "\n",
    "            if isinstance(soup3.find('p',{'id':'employment_type'}), type(None)):\n",
    "                details['employment_type'] = None\n",
    "            else:\n",
    "                details['employment_type'] = soup3.find('p',{'id':'employment_type'}).text    \n",
    "\n",
    "            if isinstance(soup3.find('p',{'id':'seniority'}), type(None)):\n",
    "                details['seniority'] = None\n",
    "            else:\n",
    "                details['seniority'] = soup3.find('p',{'id':'seniority'}).text  \n",
    "                \n",
    "            if isinstance(soup3.find('p',{'id':'job-categories'}), type(None)):\n",
    "                details['industry'] = None\n",
    "            else:\n",
    "                details['industry'] = soup3.find('p',{'id':'job-categories'}).text    \n",
    "\n",
    "            if isinstance(soup3.find('div',{'class':'lh-solid'}), type(None)):\n",
    "                details['salary'] = None\n",
    "            else:\n",
    "                details['salary'] = soup3.find('div',{'class':'lh-solid'}).text    \n",
    "\n",
    "            if isinstance(soup3.find('span',{'class':'salary_type'}), type(None)):\n",
    "                details['salary_type'] = None\n",
    "            else:\n",
    "                details['salary_type'] = soup3.find('span',{'class':'salary_type'}).text    \n",
    "\n",
    "            if isinstance(soup3.find('div',{'id':'job_description'}), type(None)):\n",
    "                details['responsibilities'] = None\n",
    "            else:\n",
    "                details['responsibilities'] = soup3.find('div',{'id':'job_description'}).text    \n",
    "\n",
    "            if isinstance(soup3.find('div',{'id':'requirements'}), type(None)):\n",
    "                details['requirements'] = None\n",
    "            else:\n",
    "                details['requirements'] = soup3.find('div',{'id':'requirements'}).text   \n",
    "            \n",
    "            search_list.append(details)\n",
    "            \n",
    "            driver.back()\n",
    "            \n",
    "            time.sleep(10)\n",
    "\n",
    "            # close pop up window after returning to jobs' page\n",
    "            try:\n",
    "                driver.find_element_by_xpath(\"//button[@class='joyride-tooltip__close']\").click()\n",
    "            except:\n",
    "                pass\n",
    "            \n",
    "        print('job page {} is scraped!'.format(page+1))\n",
    "        \n",
    "        html3 = driver.page_source\n",
    "        soup3 = BeautifulSoup(html3,'lxml')\n",
    "        \n",
    "        pages_available = Selector(text=html3).xpath(\"//span[@type='action']/text()\").extract()\n",
    "\n",
    "        if '❯' in pages_available:\n",
    "            change_index = pages_available.index('❯')\n",
    "\n",
    "            driver.find_elements_by_xpath(\"//span[@type='action']\")[change_index].click()\n",
    "        \n",
    "        time.sleep(3)\n",
    "        \n",
    "    for job in search_list:\n",
    "        job_list.append(job)\n",
    "    \n",
    "    print('')\n",
    "    print('{} finished scraping!\\n'.format(title))\n",
    "    print('no. of {} jobs scraped: {}'.format(title,len(search_list)))\n",
    "    print('')\n",
    "    print('no. of jobs {} available for this title on website: {}'.format(title,jobs_num))\n",
    "    print('')\n",
    "    \n",
    "    if len(search_list) == jobs_num:\n",
    "        print('all {} jobs have been scraped!'.format(title))\n",
    "    else:\n",
    "        print('some {} job(s) have not been scraped!'.format(title))\n",
    "    \n",
    "    print('')\n",
    "    print('-'*30)\n",
    "    print('')\n",
    "    \n",
    "    search_list_df = pd.DataFrame(search_list)\n",
    "    search_list_df.to_csv(str(title)+'.csv',index=False)\n",
    "    \n",
    "    # go back to main page and search for subsequent job titles\n",
    "    driver.find_element_by_xpath(\"//a[@class='no-underline pointer']\").click()"
   ]
  },
  {
   "cell_type": "markdown",
   "metadata": {},
   "source": [
    "# Question 1\n",
    "\n",
    "https://www.dropbox.com/sh/hfx95izrdlbfn4u/AAA6P1s4Y_DM6w1laIhyTtNta?dl=0"
   ]
  },
  {
   "cell_type": "code",
   "execution_count": 2,
   "metadata": {},
   "outputs": [],
   "source": [
    "# load data\n",
    "\n",
    "job_titles = ['data scientist','data analyst','data engineer','business analyst',\n",
    "              'machine learning engineer','python developer','sql','analytics']       \n",
    "\n",
    "data_scientist = pd.read_csv('data scientist.csv')\n",
    "data_analyst = pd.read_csv('data analyst.csv')\n",
    "data_engineer = pd.read_csv('data engineer.csv')\n",
    "business_analyst = pd.read_csv('business analyst.csv')\n",
    "machine_learning_engineer = pd.read_csv('machine learning engineer.csv')\n",
    "python_developer = pd.read_csv('python developer.csv')\n",
    "sql = pd.read_csv('sql.csv')\n",
    "analytics = pd.read_csv('analytics.csv')"
   ]
  },
  {
   "cell_type": "code",
   "execution_count": 3,
   "metadata": {},
   "outputs": [],
   "source": [
    "# concatenate all dfs\n",
    "jobs = pd.concat([data_scientist,data_analyst,data_engineer,business_analyst,\n",
    "              machine_learning_engineer,python_developer,sql,analytics])\n",
    "\n",
    "# reset_index\n",
    "jobs.reset_index(drop=True,inplace=True)"
   ]
  },
  {
   "cell_type": "code",
   "execution_count": 4,
   "metadata": {},
   "outputs": [
    {
     "data": {
      "text/html": [
       "<div>\n",
       "<style scoped>\n",
       "    .dataframe tbody tr th:only-of-type {\n",
       "        vertical-align: middle;\n",
       "    }\n",
       "\n",
       "    .dataframe tbody tr th {\n",
       "        vertical-align: top;\n",
       "    }\n",
       "\n",
       "    .dataframe thead th {\n",
       "        text-align: right;\n",
       "    }\n",
       "</style>\n",
       "<table border=\"1\" class=\"dataframe\">\n",
       "  <thead>\n",
       "    <tr style=\"text-align: right;\">\n",
       "      <th></th>\n",
       "      <th>address</th>\n",
       "      <th>company</th>\n",
       "      <th>employment_type</th>\n",
       "      <th>industry</th>\n",
       "      <th>job</th>\n",
       "      <th>requirements</th>\n",
       "      <th>responsibilities</th>\n",
       "      <th>salary</th>\n",
       "      <th>salary_type</th>\n",
       "      <th>seniority</th>\n",
       "      <th>title</th>\n",
       "    </tr>\n",
       "  </thead>\n",
       "  <tbody>\n",
       "    <tr>\n",
       "      <th>0</th>\n",
       "      <td>THE SIEMENS CENTRE, 60 MACPHERSON ROAD 348615</td>\n",
       "      <td>SIEMENS PTE. LTD.</td>\n",
       "      <td>Permanent</td>\n",
       "      <td>Engineering, Information Technology</td>\n",
       "      <td>SENIOR DATA SCIENTIST (68722)</td>\n",
       "      <td>RequirementsKey Skills and Experience  Minimum...</td>\n",
       "      <td>Roles &amp; ResponsibilitiesResponsibilities  Coll...</td>\n",
       "      <td>$5,000to$8,000</td>\n",
       "      <td>Monthly</td>\n",
       "      <td>Professional, Senior Executive</td>\n",
       "      <td>data scientist</td>\n",
       "    </tr>\n",
       "    <tr>\n",
       "      <th>1</th>\n",
       "      <td>THE ADELPHI, 1 COLEMAN STREET 179803</td>\n",
       "      <td>CAREER TREND PTE. LTD.</td>\n",
       "      <td>Full Time</td>\n",
       "      <td>Information Technology</td>\n",
       "      <td>Design Engineer / Electronic Component MNC / 5...</td>\n",
       "      <td>Requirements• Programming skills in C++/C and ...</td>\n",
       "      <td>Roles &amp; ResponsibilitiesWork with marketing te...</td>\n",
       "      <td>$4,000to$5,500</td>\n",
       "      <td>Monthly</td>\n",
       "      <td>Senior Executive</td>\n",
       "      <td>data scientist</td>\n",
       "    </tr>\n",
       "    <tr>\n",
       "      <th>2</th>\n",
       "      <td>NaN</td>\n",
       "      <td>Company Undisclosed</td>\n",
       "      <td>Permanent</td>\n",
       "      <td>Banking and Finance</td>\n",
       "      <td>Data Scientist</td>\n",
       "      <td>Requirements Master’s or Ph.D. in statistics, ...</td>\n",
       "      <td>Roles &amp; ResponsibilitiesThis role aims to offe...</td>\n",
       "      <td>$8,000to$10,000</td>\n",
       "      <td>Monthly</td>\n",
       "      <td>Professional, Executive</td>\n",
       "      <td>data scientist</td>\n",
       "    </tr>\n",
       "    <tr>\n",
       "      <th>3</th>\n",
       "      <td>NaN</td>\n",
       "      <td>Company Undisclosed</td>\n",
       "      <td>Full Time</td>\n",
       "      <td>Information Technology</td>\n",
       "      <td>IT Data Scientist (Generalist)</td>\n",
       "      <td>Requirements Comfortable with core machine lea...</td>\n",
       "      <td>Roles &amp; ResponsibilitiesThe Data Scientist sho...</td>\n",
       "      <td>$7,000to$12,000</td>\n",
       "      <td>Monthly</td>\n",
       "      <td>Professional</td>\n",
       "      <td>data scientist</td>\n",
       "    </tr>\n",
       "    <tr>\n",
       "      <th>4</th>\n",
       "      <td>LEE KING HWA BUILDING, 9 TAI SENG LINK 534053</td>\n",
       "      <td>QANVAST PTE. LTD.</td>\n",
       "      <td>Full Time</td>\n",
       "      <td>Information Technology</td>\n",
       "      <td>Data Scientist</td>\n",
       "      <td>Requirements  Strong problem solving skills wi...</td>\n",
       "      <td>Roles &amp; Responsibilities  Work with stakeholde...</td>\n",
       "      <td>$4,000to$6,000</td>\n",
       "      <td>Monthly</td>\n",
       "      <td>Junior Executive</td>\n",
       "      <td>data scientist</td>\n",
       "    </tr>\n",
       "  </tbody>\n",
       "</table>\n",
       "</div>"
      ],
      "text/plain": [
       "                                         address                 company  \\\n",
       "0  THE SIEMENS CENTRE, 60 MACPHERSON ROAD 348615       SIEMENS PTE. LTD.   \n",
       "1           THE ADELPHI, 1 COLEMAN STREET 179803  CAREER TREND PTE. LTD.   \n",
       "2                                            NaN     Company Undisclosed   \n",
       "3                                            NaN     Company Undisclosed   \n",
       "4  LEE KING HWA BUILDING, 9 TAI SENG LINK 534053       QANVAST PTE. LTD.   \n",
       "\n",
       "  employment_type                             industry  \\\n",
       "0       Permanent  Engineering, Information Technology   \n",
       "1       Full Time               Information Technology   \n",
       "2       Permanent                  Banking and Finance   \n",
       "3       Full Time               Information Technology   \n",
       "4       Full Time               Information Technology   \n",
       "\n",
       "                                                 job  \\\n",
       "0                      SENIOR DATA SCIENTIST (68722)   \n",
       "1  Design Engineer / Electronic Component MNC / 5...   \n",
       "2                                     Data Scientist   \n",
       "3                     IT Data Scientist (Generalist)   \n",
       "4                                     Data Scientist   \n",
       "\n",
       "                                        requirements  \\\n",
       "0  RequirementsKey Skills and Experience  Minimum...   \n",
       "1  Requirements• Programming skills in C++/C and ...   \n",
       "2  Requirements Master’s or Ph.D. in statistics, ...   \n",
       "3  Requirements Comfortable with core machine lea...   \n",
       "4  Requirements  Strong problem solving skills wi...   \n",
       "\n",
       "                                    responsibilities           salary  \\\n",
       "0  Roles & ResponsibilitiesResponsibilities  Coll...   $5,000to$8,000   \n",
       "1  Roles & ResponsibilitiesWork with marketing te...   $4,000to$5,500   \n",
       "2  Roles & ResponsibilitiesThis role aims to offe...  $8,000to$10,000   \n",
       "3  Roles & ResponsibilitiesThe Data Scientist sho...  $7,000to$12,000   \n",
       "4  Roles & Responsibilities  Work with stakeholde...   $4,000to$6,000   \n",
       "\n",
       "  salary_type                       seniority           title  \n",
       "0     Monthly  Professional, Senior Executive  data scientist  \n",
       "1     Monthly                Senior Executive  data scientist  \n",
       "2     Monthly         Professional, Executive  data scientist  \n",
       "3     Monthly                    Professional  data scientist  \n",
       "4     Monthly                Junior Executive  data scientist  "
      ]
     },
     "execution_count": 4,
     "metadata": {},
     "output_type": "execute_result"
    }
   ],
   "source": [
    "jobs.head()"
   ]
  },
  {
   "cell_type": "code",
   "execution_count": 5,
   "metadata": {},
   "outputs": [
    {
     "name": "stdout",
     "output_type": "stream",
     "text": [
      "<class 'pandas.core.frame.DataFrame'>\n",
      "RangeIndex: 2237 entries, 0 to 2236\n",
      "Data columns (total 11 columns):\n",
      "address             1635 non-null object\n",
      "company             2199 non-null object\n",
      "employment_type     2199 non-null object\n",
      "industry            2199 non-null object\n",
      "job                 2199 non-null object\n",
      "requirements        2067 non-null object\n",
      "responsibilities    2199 non-null object\n",
      "salary              1962 non-null object\n",
      "salary_type         1962 non-null object\n",
      "seniority           2103 non-null object\n",
      "title               2237 non-null object\n",
      "dtypes: object(11)\n",
      "memory usage: 192.3+ KB\n"
     ]
    }
   ],
   "source": [
    "jobs.info()"
   ]
  },
  {
   "cell_type": "code",
   "execution_count": 6,
   "metadata": {},
   "outputs": [
    {
     "data": {
      "text/plain": [
       "address             602\n",
       "company              38\n",
       "employment_type      38\n",
       "industry             38\n",
       "job                  38\n",
       "requirements        170\n",
       "responsibilities     38\n",
       "salary              275\n",
       "salary_type         275\n",
       "seniority           134\n",
       "title                 0\n",
       "dtype: int64"
      ]
     },
     "execution_count": 6,
     "metadata": {},
     "output_type": "execute_result"
    }
   ],
   "source": [
    "jobs.isnull().sum()"
   ]
  },
  {
   "cell_type": "code",
   "execution_count": 7,
   "metadata": {},
   "outputs": [
    {
     "name": "stdout",
     "output_type": "stream",
     "text": [
      "jobs df shape: (2237, 11)\n"
     ]
    }
   ],
   "source": [
    "print('jobs df shape: {}'.format(jobs.shape))"
   ]
  },
  {
   "cell_type": "markdown",
   "metadata": {},
   "source": [
    "## Missing values in jobs df"
   ]
  },
  {
   "cell_type": "code",
   "execution_count": 8,
   "metadata": {},
   "outputs": [
    {
     "name": "stdout",
     "output_type": "stream",
     "text": [
      "no. of missing target values: 275 \n",
      "\n",
      "[6, 25, 36, 39, 58, 61, 85, 98, 105, 109] \n",
      "\n",
      "jobs df shape: (1962, 11)\n"
     ]
    }
   ],
   "source": [
    "# locating indexes of rows with target (i.e. salary) as NaN\n",
    "null_target = jobs['salary'].isnull()\n",
    "print('no. of missing target values: {}'.format(null_target.sum()),'\\n')\n",
    "\n",
    "null_target_indexlist = [i for i,v in enumerate(list(null_target)) if v == True]\n",
    "print(null_target_indexlist[0:10],'\\n')\n",
    "\n",
    "# removing rows with target as NaN and reset_index\n",
    "jobs.drop(null_target_indexlist,axis=0,inplace=True)\n",
    "jobs.reset_index(drop=True,inplace=True)\n",
    "print('jobs df shape: {}'.format(jobs.shape))"
   ]
  },
  {
   "cell_type": "code",
   "execution_count": 9,
   "metadata": {},
   "outputs": [
    {
     "name": "stdout",
     "output_type": "stream",
     "text": [
      "no. of missing addresses: 484 \n",
      "\n",
      "[2, 3, 6, 7, 11, 15, 16, 18, 19, 20] \n",
      "\n"
     ]
    }
   ],
   "source": [
    "# locating indexes of rows with addresses as NaN\n",
    "null_address = jobs['address'].isnull()\n",
    "print('no. of missing addresses: {}'.format(null_address.sum()),'\\n')\n",
    "\n",
    "null_address_indexlist = [i for i,v in enumerate(list(null_address)) if v == True]\n",
    "print(null_address_indexlist[0:10],'\\n')\n",
    "\n",
    "# taking a look at rows with addresses as NaN\n",
    "jobs.iloc[null_address_indexlist,:] # contains much useful info, we should not drop these rows\n",
    "\n",
    "# changing null values to 'undisclosed'\n",
    "jobs['address'][null_address_indexlist] = 'undisclosed'"
   ]
  },
  {
   "cell_type": "code",
   "execution_count": 10,
   "metadata": {},
   "outputs": [
    {
     "name": "stdout",
     "output_type": "stream",
     "text": [
      "no. of missing requirements: 47 \n",
      "\n",
      "[104, 119, 144, 204, 229, 857, 1045, 1046, 1173, 1206] \n",
      "\n"
     ]
    }
   ],
   "source": [
    "# locating indexes of rows with requirements as NaN\n",
    "null_requirements = jobs['requirements'].isnull()\n",
    "print('no. of missing requirements: {}'.format(null_requirements.sum()),'\\n')\n",
    "\n",
    "null_requirements_indexlist = [i for i,v in enumerate(list(null_requirements)) if v == True]\n",
    "print(null_requirements_indexlist[0:10],'\\n')\n",
    "\n",
    "# taking a look at rows with requirements as NaN\n",
    "jobs.iloc[null_requirements_indexlist,:]\n",
    "\n",
    "# changing null values to 'undisclosed'\n",
    "jobs['requirements'][null_requirements_indexlist] = 'undisclosed'"
   ]
  },
  {
   "cell_type": "code",
   "execution_count": 11,
   "metadata": {},
   "outputs": [
    {
     "name": "stdout",
     "output_type": "stream",
     "text": [
      "no. of missing seniority: 34 \n",
      "\n",
      "[857, 1321, 1322, 1530, 1931, 1933, 1934, 1935, 1936, 1937] \n",
      "\n"
     ]
    }
   ],
   "source": [
    "# locating indexes of rows with seniority as NaN\n",
    "null_seniority = jobs['seniority'].isnull()\n",
    "print('no. of missing seniority: {}'.format(null_seniority.sum()),'\\n')\n",
    "\n",
    "null_seniority_indexlist = [i for i,v in enumerate(list(null_seniority)) if v == True]\n",
    "print(null_seniority_indexlist[0:10],'\\n')\n",
    "\n",
    "# taking a look at rows with seniority as NaN\n",
    "jobs.iloc[null_seniority_indexlist,:]\n",
    "\n",
    "# changing null values to 'undisclosed'\n",
    "jobs['seniority'][null_seniority_indexlist] = 'undisclosed'"
   ]
  },
  {
   "cell_type": "code",
   "execution_count": 12,
   "metadata": {},
   "outputs": [],
   "source": [
    "# convert all string elements in jobs df to lowercase \n",
    "for col_name in list(jobs.columns.values):\n",
    "    jobs[col_name] = jobs[col_name].map(lambda x: x.lower() if type(x) == str else x)"
   ]
  },
  {
   "cell_type": "code",
   "execution_count": 13,
   "metadata": {},
   "outputs": [],
   "source": [
    "# featuring enginner on salary column to lower and upper boundaries on its range\n",
    "salary_list = jobs['salary'].map(lambda x: str(x).replace('to',' ').replace('$','').replace(',','').split())\n",
    "\n",
    "lower = []\n",
    "upper = []\n",
    "\n",
    "for left_col in range(len(salary_list)):\n",
    "    lower.append(float(salary_list[left_col][0]))\n",
    "    \n",
    "for right_col in range(len(salary_list)):\n",
    "    if len(salary_list[right_col]) == 1:\n",
    "        upper.append(np.nan)\n",
    "    else:\n",
    "        upper.append(float(salary_list[right_col][1]))\n",
    "\n",
    "# standardizing salary periodicity as monthly for all salaries and calculate salaries as such\n",
    "salary_lower = [round(v/12,2) if jobs['salary_type'][i] == 'annually' else v for i,v in enumerate(lower)]\n",
    "salary_upper = [round(v/12,2) if jobs['salary_type'][i] == 'annually' else v for i,v in enumerate(upper)]\n",
    "\n",
    "# concat two new cols to jobs df\n",
    "jobs['salary_lower_mth_num'] = salary_lower\n",
    "jobs['salary_upper_mth_num'] = salary_upper "
   ]
  },
  {
   "cell_type": "code",
   "execution_count": 14,
   "metadata": {},
   "outputs": [
    {
     "name": "stdout",
     "output_type": "stream",
     "text": [
      "jobs shape: (1962, 14)\n"
     ]
    }
   ],
   "source": [
    "# calculating and adding salary_mid column\n",
    "jobs['salary_mid_mth_num'] = (jobs['salary_lower_mth_num']+jobs['salary_upper_mth_num'])/2\n",
    "\n",
    "print('jobs shape: {}'.format(jobs.shape))"
   ]
  },
  {
   "cell_type": "code",
   "execution_count": 15,
   "metadata": {},
   "outputs": [
    {
     "name": "stdout",
     "output_type": "stream",
     "text": [
      "jobs shape: (1877, 14)\n"
     ]
    }
   ],
   "source": [
    "# removing potential duplicate(s) of jobs in jobs df and reset_index\n",
    "jobs = jobs.drop_duplicates()\n",
    "\n",
    "jobs.reset_index(drop=True,inplace=True)\n",
    "\n",
    "print('jobs shape: {}'.format(jobs.shape))"
   ]
  },
  {
   "cell_type": "code",
   "execution_count": 16,
   "metadata": {},
   "outputs": [
    {
     "data": {
      "image/png": "[encoded data removed]",
      "text/plain": [
       "<Figure size 1296x1080 with 8 Axes>"
      ]
     },
     "metadata": {},
     "output_type": "display_data"
    }
   ],
   "source": [
    "# histogram for mid salaries\n",
    "fig, axes = plt.subplots(int(len(job_titles)/2),2,figsize=(18,15))\n",
    "\n",
    "for i,v in enumerate(job_titles):\n",
    "    g = jobs[jobs['title'] == v]['salary_mid_mth_num'].plot(kind='hist',ax=axes[int((i-i%2)/2), i%2],bins=10)\n",
    "    g.set_title(v)\n",
    "    g.set_xlabel('mid salary')\n",
    "    plt.tight_layout()"
   ]
  },
  {
   "cell_type": "code",
   "execution_count": 17,
   "metadata": {},
   "outputs": [
    {
     "data": {
      "text/plain": [
       "Text(0.5,1,'hist of mid salaries')"
      ]
     },
     "execution_count": 17,
     "metadata": {},
     "output_type": "execute_result"
    },
    {
     "data": {
      "image/png": "[encoded data removed]",
      "text/plain": [
       "<Figure size 504x288 with 1 Axes>"
      ]
     },
     "metadata": {},
     "output_type": "display_data"
    }
   ],
   "source": [
    "# histogram for all mid salaries\n",
    "g1 = jobs['salary_mid_mth_num'].plot(kind='hist',bins=30,figsize=(7,4))\n",
    "g1.set_xlabel('mid salaries')\n",
    "g1.set_ylabel('frequency')\n",
    "g1.set_title('hist of mid salaries')"
   ]
  },
  {
   "cell_type": "markdown",
   "metadata": {},
   "source": [
    "## Creating decision boundary based on median of salary_mid_mth_num\n",
    "    - Class of 1 is assigned to target if salary_mid_mth_num for data point is greater than or equal to median of salary_mid_mth_num\n",
    "    \n",
    "    - Class of 0 is assigned otherwise"
   ]
  },
  {
   "cell_type": "code",
   "execution_count": 18,
   "metadata": {},
   "outputs": [
    {
     "name": "stdout",
     "output_type": "stream",
     "text": [
      "len of target: 1877 \n",
      "\n",
      "class 1 is our baseline with score: 0.5578050079914758\n"
     ]
    }
   ],
   "source": [
    "# creating new feature called 'target' with decision boundary as described in markdown shown above\n",
    "target = []\n",
    "\n",
    "for i in range(jobs.shape[0]):\n",
    "    if jobs['salary_mid_mth_num'][i] >= np.median(jobs['salary_mid_mth_num']):\n",
    "        target.append(1)\n",
    "    else:\n",
    "        target.append(0)\n",
    "        \n",
    "# concat target vector to jobs df\n",
    "jobs['target'] = target\n",
    "\n",
    "print('len of target: {}'.format(len(target)),'\\n')\n",
    "\n",
    "# majority class will be our baseline\n",
    "jobs['target'].value_counts()\n",
    "\n",
    "if jobs['target'].value_counts()[0] > jobs['target'].value_counts()[1]:\n",
    "    print('class 0 is our baseline with score: {}'.format(jobs['target'].value_counts()[0]/jobs.shape[0]))\n",
    "else:\n",
    "    print('class 1 is our baseline with score: {}'.format(jobs['target'].value_counts()[1]/jobs.shape[0]))"
   ]
  },
  {
   "cell_type": "code",
   "execution_count": 19,
   "metadata": {},
   "outputs": [],
   "source": [
    "# savings jobs df to .csv file\n",
    "jobs.to_csv('jobs.csv',index=False)"
   ]
  },
  {
   "cell_type": "markdown",
   "metadata": {},
   "source": [
    "# Tokenizing and Vectorizing of text + Model Fitting (below)"
   ]
  },
  {
   "cell_type": "markdown",
   "metadata": {},
   "source": [
    "## train test split by 80/20\n",
    "#### <font color='red'> job_text and target"
   ]
  },
  {
   "cell_type": "code",
   "execution_count": 20,
   "metadata": {},
   "outputs": [
    {
     "name": "stdout",
     "output_type": "stream",
     "text": [
      "xtrain_job shape: (1501,)\n",
      "ytrain_job shape: (1501,)\n",
      "\n",
      "xtest_job shape: (376,)\n",
      "ytest_job shape: (376,)\n"
     ]
    }
   ],
   "source": [
    "x = jobs['job']\n",
    "y = jobs['target']\n",
    "\n",
    "xtrain_job, xtest_job, ytrain_job, ytest_job = train_test_split(x,y,test_size=0.2,random_state=42)\n",
    "\n",
    "print('xtrain_job shape: {}'.format(xtrain_job.shape))\n",
    "print('ytrain_job shape: {}'.format(ytrain_job.shape))\n",
    "print('')\n",
    "print('xtest_job shape: {}'.format(xtest_job.shape))\n",
    "print('ytest_job shape: {}'.format(ytest_job.shape))"
   ]
  },
  {
   "cell_type": "markdown",
   "metadata": {},
   "source": [
    "## model fitting - randomforestclassifier\n",
    "#### <font color='red'> job_text and target"
   ]
  },
  {
   "cell_type": "code",
   "execution_count": 21,
   "metadata": {},
   "outputs": [
    {
     "name": "stdout",
     "output_type": "stream",
     "text": [
      "X_train shape: (1501, 807) \n",
      "\n",
      "[0.83965273 0.78561304 0.77944614 0.7156087  0.80039561 0.85425283\n",
      " 0.77647905 0.80606006 0.81145477 0.85183837] \n",
      "\n",
      "job mean auc score: 0.8020801314854914 \n",
      "\n",
      "job accuracy score: 0.7340425531914894\n"
     ]
    }
   ],
   "source": [
    "cvec = CountVectorizer(stop_words='english')\n",
    "xtraindtm = cvec.fit_transform(xtrain_job)\n",
    "xtestdtm = cvec.transform(xtest_job)\n",
    "\n",
    "# creating dataframes after tokenizing and vectorizing our text features\n",
    "X_train = pd.DataFrame(xtraindtm.todense(),columns=[cvec.get_feature_names()])\n",
    "X_test = pd.DataFrame(xtestdtm.todense(),columns=[cvec.get_feature_names()])\n",
    "\n",
    "print('X_train shape: {}'.format(X_train.shape),'\\n')\n",
    "\n",
    "# model fitting\n",
    "rfc = RandomForestClassifier(n_estimators=100,random_state=42)\n",
    "rfc.fit(X_train,ytrain_job)\n",
    "\n",
    "y_pred = rfc.predict(X_test)\n",
    "\n",
    "# 10-folds cv\n",
    "rfc_cvscore_job = cross_val_score(rfc,X_train,ytrain_job,cv=10,scoring='roc_auc')\n",
    "print(rfc_cvscore_job,'\\n')\n",
    "print('job mean auc score: {}'.format(np.mean(rfc_cvscore_job)),'\\n')\n",
    "\n",
    "# accuracy score\n",
    "accuracyscore_job = accuracy_score(ytest_job,y_pred)\n",
    "print('job accuracy score: {}'.format(accuracy_score(ytest_job,y_pred)))"
   ]
  },
  {
   "cell_type": "markdown",
   "metadata": {},
   "source": [
    "## train test split by 80/20\n",
    "#### <font color='red'> requirements_text and target"
   ]
  },
  {
   "cell_type": "code",
   "execution_count": 22,
   "metadata": {},
   "outputs": [
    {
     "name": "stdout",
     "output_type": "stream",
     "text": [
      "xtrain_requirements shape: (1501,)\n",
      "ytrain_requirements shape: (1501,)\n",
      "\n",
      "xtest_requirements shape: (376,)\n",
      "ytest_requirements shape: (376,)\n"
     ]
    }
   ],
   "source": [
    "x = jobs['requirements']\n",
    "y = jobs['target']\n",
    "\n",
    "xtrain_requirements, xtest_requirements, ytrain_requirements, ytest_requirements\\\n",
    "= train_test_split(x,y,test_size=0.2,random_state=42)\n",
    "\n",
    "print('xtrain_requirements shape: {}'.format(xtrain_requirements.shape))\n",
    "print('ytrain_requirements shape: {}'.format(ytrain_requirements.shape))\n",
    "print('')\n",
    "print('xtest_requirements shape: {}'.format(xtest_requirements.shape))\n",
    "print('ytest_requirements shape: {}'.format(ytest_requirements.shape))"
   ]
  },
  {
   "cell_type": "markdown",
   "metadata": {},
   "source": [
    "## model fitting - randomforestclassifier\n",
    "#### <font color='red'> requirements_text and target"
   ]
  },
  {
   "cell_type": "code",
   "execution_count": 23,
   "metadata": {},
   "outputs": [
    {
     "name": "stdout",
     "output_type": "stream",
     "text": [
      "X_train shape: (1501, 7396) \n",
      "\n",
      "[0.87880936 0.87127923 0.88590182 0.85668045 0.86558173 0.86117605\n",
      " 0.82736918 0.82988671 0.86755979 0.80278486] \n",
      "\n",
      "requirements mean auc score: 0.854702917324666 \n",
      "\n",
      "requirements accuracy score: 0.8031914893617021\n"
     ]
    }
   ],
   "source": [
    "cvec = CountVectorizer(stop_words='english')\n",
    "xtraindtm = cvec.fit_transform(xtrain_requirements)\n",
    "xtestdtm = cvec.transform(xtest_requirements)\n",
    "\n",
    "# creating dataframes after tokenizing and vectorizing our text features\n",
    "X_train = pd.DataFrame(xtraindtm.todense(),columns=[cvec.get_feature_names()])\n",
    "X_test = pd.DataFrame(xtestdtm.todense(),columns=[cvec.get_feature_names()])\n",
    "\n",
    "print('X_train shape: {}'.format(X_train.shape),'\\n')\n",
    "\n",
    "# model fitting\n",
    "rfc = RandomForestClassifier(n_estimators=100,random_state=42)\n",
    "rfc.fit(X_train,ytrain_requirements)\n",
    "\n",
    "y_pred = rfc.predict(X_test)\n",
    "\n",
    "# 10-folds cv\n",
    "rfc_cvscore_requirements = cross_val_score(rfc,X_train,ytrain_requirements,cv=10,scoring='roc_auc')\n",
    "print(rfc_cvscore_requirements,'\\n')\n",
    "print('requirements mean auc score: {}'.format(np.mean(rfc_cvscore_requirements)),'\\n')\n",
    "\n",
    "# accuracy score\n",
    "accuracyscore_requirements = accuracy_score(ytest_requirements,y_pred)\n",
    "print('requirements accuracy score: {}'.format(accuracyscore_requirements))"
   ]
  },
  {
   "cell_type": "markdown",
   "metadata": {},
   "source": [
    "## train test split by 80/20\n",
    "#### <font color='red'> responsibilities_text and target"
   ]
  },
  {
   "cell_type": "code",
   "execution_count": 24,
   "metadata": {},
   "outputs": [
    {
     "name": "stdout",
     "output_type": "stream",
     "text": [
      "xtrain_responsibilities shape: (1501,)\n",
      "ytrain_responsibilities shape: (1501,)\n",
      "\n",
      "xtest_responsibilities shape: (376,)\n",
      "ytest_responsibilities shape: (376,)\n"
     ]
    }
   ],
   "source": [
    "x = jobs['responsibilities']\n",
    "y = jobs['target']\n",
    "\n",
    "xtrain_responsibilities, xtest_responsibilities, ytrain_responsibilities, ytest_responsibilities\\\n",
    "= train_test_split(x,y,test_size=0.2,random_state=42)\n",
    "\n",
    "print('xtrain_responsibilities shape: {}'.format(xtrain_responsibilities.shape))\n",
    "print('ytrain_responsibilities shape: {}'.format(ytrain_responsibilities.shape))\n",
    "print('')\n",
    "print('xtest_responsibilities shape: {}'.format(xtest_responsibilities.shape))\n",
    "print('ytest_responsibilities shape: {}'.format(ytest_responsibilities.shape))"
   ]
  },
  {
   "cell_type": "markdown",
   "metadata": {},
   "source": [
    "## model fitting - randomforestclassifier\n",
    "#### <font color='red'> responsibilities_text and target"
   ]
  },
  {
   "cell_type": "code",
   "execution_count": 25,
   "metadata": {},
   "outputs": [
    {
     "name": "stdout",
     "output_type": "stream",
     "text": [
      "X_train shape: (1501, 9162) \n",
      "\n",
      "[0.81431609 0.86888731 0.8539831  0.81586046 0.86225499 0.88104657\n",
      " 0.8138824  0.84894803 0.89624168 0.83636695] \n",
      "\n",
      "responsibilities mean auc score: 0.84917875747191 \n",
      "\n",
      "responsibilities accuracy score: 0.7845744680851063\n"
     ]
    }
   ],
   "source": [
    "cvec = CountVectorizer(stop_words='english')\n",
    "xtraindtm = cvec.fit_transform(xtrain_responsibilities)\n",
    "xtestdtm = cvec.transform(xtest_responsibilities)\n",
    "\n",
    "# creating dataframes after tokenizing and vectorizing our text features\n",
    "X_train = pd.DataFrame(xtraindtm.todense(),columns=[cvec.get_feature_names()])\n",
    "X_test = pd.DataFrame(xtestdtm.todense(),columns=[cvec.get_feature_names()])\n",
    "\n",
    "print('X_train shape: {}'.format(X_train.shape),'\\n')\n",
    "\n",
    "# model fitting\n",
    "rfc = RandomForestClassifier(n_estimators=100,random_state=42)\n",
    "rfc.fit(X_train,ytrain_responsibilities)\n",
    "\n",
    "y_pred = rfc.predict(X_test)\n",
    "\n",
    "# 10-folds cv\n",
    "rfc_cvscore_responsibilities = cross_val_score(rfc,X_train,ytrain_responsibilities,cv=10,scoring='roc_auc')\n",
    "print(rfc_cvscore_responsibilities,'\\n')\n",
    "print('responsibilities mean auc score: {}'.format(np.mean(rfc_cvscore_responsibilities)),'\\n')\n",
    "\n",
    "# accuracy score\n",
    "accuracyscore_responsibilities = accuracy_score(ytest_responsibilities,y_pred)\n",
    "print('responsibilities accuracy score: {}'.format(accuracy_score(ytest_responsibilities,y_pred)))"
   ]
  },
  {
   "cell_type": "markdown",
   "metadata": {},
   "source": [
    "## train test split by 80/20\n",
    "#### <font color='red'> seniority_text and target"
   ]
  },
  {
   "cell_type": "code",
   "execution_count": 26,
   "metadata": {},
   "outputs": [
    {
     "name": "stdout",
     "output_type": "stream",
     "text": [
      "xtrain_seniority shape: (1501,)\n",
      "ytrain_seniority shape: (1501,)\n",
      "\n",
      "xtest_seniority shape: (376,)\n",
      "ytest_seniority shape: (376,)\n"
     ]
    }
   ],
   "source": [
    "x = jobs['seniority']\n",
    "y = jobs['target']\n",
    "\n",
    "xtrain_seniority, xtest_seniority, ytrain_seniority, ytest_seniority\\\n",
    "= train_test_split(x,y,test_size=0.2,random_state=42)\n",
    "\n",
    "print('xtrain_seniority shape: {}'.format(xtrain_seniority.shape))\n",
    "print('ytrain_seniority shape: {}'.format(ytrain_seniority.shape))\n",
    "print('')\n",
    "print('xtest_seniority shape: {}'.format(xtest_seniority.shape))\n",
    "print('ytest_seniority shape: {}'.format(ytest_seniority.shape))"
   ]
  },
  {
   "cell_type": "markdown",
   "metadata": {},
   "source": [
    "## model fitting - randomforestclassifier\n",
    "#### <font color='red'> seniority_text and target"
   ]
  },
  {
   "cell_type": "code",
   "execution_count": 27,
   "metadata": {},
   "outputs": [
    {
     "name": "stdout",
     "output_type": "stream",
     "text": [
      "X_train shape: (1501, 12) \n",
      "\n",
      "[0.70614812 0.73750886 0.64313972 0.70311095 0.75391117 0.76955584\n",
      " 0.6633699  0.6770365  0.72109333 0.78285402] \n",
      "\n",
      "seniority mean auc score: 0.715772841037591 \n",
      "\n",
      "seniority accuracy score: 0.7074468085106383\n"
     ]
    }
   ],
   "source": [
    "cvec = CountVectorizer(stop_words='english')\n",
    "xtraindtm = cvec.fit_transform(xtrain_seniority)\n",
    "xtestdtm = cvec.transform(xtest_seniority)\n",
    "\n",
    "# creating dataframes after tokenizing and vectorizing our text features\n",
    "X_train = pd.DataFrame(xtraindtm.todense(),columns=[cvec.get_feature_names()])\n",
    "X_test = pd.DataFrame(xtestdtm.todense(),columns=[cvec.get_feature_names()])\n",
    "\n",
    "print('X_train shape: {}'.format(X_train.shape),'\\n')\n",
    "\n",
    "# model fitting\n",
    "rfc = RandomForestClassifier(n_estimators=100,random_state=42)\n",
    "rfc.fit(X_train,ytrain_seniority)\n",
    "\n",
    "y_pred = rfc.predict(X_test)\n",
    "\n",
    "# 10-folds cv\n",
    "rfc_cvscore_seniority = cross_val_score(rfc,X_train,ytrain_seniority,cv=10,scoring='roc_auc')\n",
    "print(rfc_cvscore_seniority,'\\n')\n",
    "print('seniority mean auc score: {}'.format(np.mean(rfc_cvscore_seniority)),'\\n')\n",
    "\n",
    "# accuracy score\n",
    "accuracyscore_seniority = accuracy_score(ytest_seniority,y_pred)\n",
    "print('seniority accuracy score: {}'.format(accuracyscore_seniority))"
   ]
  },
  {
   "cell_type": "markdown",
   "metadata": {},
   "source": [
    "## train test split by 80/20\n",
    "#### <font color='red'> title_text and target"
   ]
  },
  {
   "cell_type": "code",
   "execution_count": 28,
   "metadata": {},
   "outputs": [
    {
     "name": "stdout",
     "output_type": "stream",
     "text": [
      "xtrain_title shape: (1501,)\n",
      "ytrain_title shape: (1501,)\n",
      "\n",
      "xtest_title shape: (376,)\n",
      "ytest_title shape: (376,)\n"
     ]
    }
   ],
   "source": [
    "x = jobs['title']\n",
    "y = jobs['target']\n",
    "\n",
    "xtrain_title, xtest_title, ytrain_title, ytest_title\\\n",
    "= train_test_split(x,y,test_size=0.2,random_state=42)\n",
    "\n",
    "print('xtrain_title shape: {}'.format(xtrain_title.shape))\n",
    "print('ytrain_title shape: {}'.format(ytrain_title.shape))\n",
    "print('')\n",
    "print('xtest_title shape: {}'.format(xtest_title.shape))\n",
    "print('ytest_title shape: {}'.format(ytest_title.shape))"
   ]
  },
  {
   "cell_type": "markdown",
   "metadata": {},
   "source": [
    "## model fitting - randomforestclassifier\n",
    "#### <font color='red'> title_text and target"
   ]
  },
  {
   "cell_type": "code",
   "execution_count": 29,
   "metadata": {},
   "outputs": [
    {
     "name": "stdout",
     "output_type": "stream",
     "text": [
      "X_train shape: (1501, 11) \n",
      "\n",
      "[0.59018427 0.56156981 0.64808488 0.58595576 0.66130192 0.65006294\n",
      " 0.57687466 0.54639453 0.63486783 0.58281762] \n",
      "\n",
      "title mean auc score: 0.6038114222667238 \n",
      "\n",
      "title accuracy score: 0.5957446808510638\n"
     ]
    }
   ],
   "source": [
    "cvec = CountVectorizer(stop_words='english')\n",
    "xtraindtm = cvec.fit_transform(xtrain_title)\n",
    "xtestdtm = cvec.transform(xtest_title)\n",
    "\n",
    "# creating dataframes after tokenizing and vectorizing our text features\n",
    "X_train = pd.DataFrame(xtraindtm.todense(),columns=[cvec.get_feature_names()])\n",
    "X_test = pd.DataFrame(xtestdtm.todense(),columns=[cvec.get_feature_names()])\n",
    "\n",
    "print('X_train shape: {}'.format(X_train.shape),'\\n')\n",
    "\n",
    "# model fitting\n",
    "rfc = RandomForestClassifier(n_estimators=100,random_state=42)\n",
    "rfc.fit(X_train,ytrain_title)\n",
    "\n",
    "y_pred = rfc.predict(X_test)\n",
    "\n",
    "# 10-folds cv\n",
    "rfc_cvscore_title = cross_val_score(rfc,X_train,ytrain_title,cv=10,scoring='roc_auc')\n",
    "print(rfc_cvscore_title,'\\n')\n",
    "print('title mean auc score: {}'.format(np.mean(rfc_cvscore_title)),'\\n')\n",
    "\n",
    "# accuracy score\n",
    "accuracyscore_title = accuracy_score(ytest_title,y_pred)\n",
    "print('title accuracy score: {}'.format(accuracyscore_title))"
   ]
  },
  {
   "cell_type": "markdown",
   "metadata": {},
   "source": [
    "# summary scores for q1"
   ]
  },
  {
   "cell_type": "code",
   "execution_count": 30,
   "metadata": {},
   "outputs": [
    {
     "data": {
      "text/html": [
       "<div>\n",
       "<style scoped>\n",
       "    .dataframe tbody tr th:only-of-type {\n",
       "        vertical-align: middle;\n",
       "    }\n",
       "\n",
       "    .dataframe tbody tr th {\n",
       "        vertical-align: top;\n",
       "    }\n",
       "\n",
       "    .dataframe thead th {\n",
       "        text-align: right;\n",
       "    }\n",
       "</style>\n",
       "<table border=\"1\" class=\"dataframe\">\n",
       "  <thead>\n",
       "    <tr style=\"text-align: right;\">\n",
       "      <th></th>\n",
       "      <th>features</th>\n",
       "      <th>rfc_mean_cvscore</th>\n",
       "      <th>accuracy_score</th>\n",
       "    </tr>\n",
       "  </thead>\n",
       "  <tbody>\n",
       "    <tr>\n",
       "      <th>0</th>\n",
       "      <td>job</td>\n",
       "      <td>0.802080</td>\n",
       "      <td>0.734043</td>\n",
       "    </tr>\n",
       "    <tr>\n",
       "      <th>1</th>\n",
       "      <td>requirements</td>\n",
       "      <td>0.854703</td>\n",
       "      <td>0.803191</td>\n",
       "    </tr>\n",
       "    <tr>\n",
       "      <th>2</th>\n",
       "      <td>responsibilities</td>\n",
       "      <td>0.849179</td>\n",
       "      <td>0.784574</td>\n",
       "    </tr>\n",
       "    <tr>\n",
       "      <th>3</th>\n",
       "      <td>seniority</td>\n",
       "      <td>0.715773</td>\n",
       "      <td>0.707447</td>\n",
       "    </tr>\n",
       "    <tr>\n",
       "      <th>4</th>\n",
       "      <td>title</td>\n",
       "      <td>0.603811</td>\n",
       "      <td>0.595745</td>\n",
       "    </tr>\n",
       "  </tbody>\n",
       "</table>\n",
       "</div>"
      ],
      "text/plain": [
       "           features  rfc_mean_cvscore  accuracy_score\n",
       "0               job          0.802080        0.734043\n",
       "1      requirements          0.854703        0.803191\n",
       "2  responsibilities          0.849179        0.784574\n",
       "3         seniority          0.715773        0.707447\n",
       "4             title          0.603811        0.595745"
      ]
     },
     "execution_count": 30,
     "metadata": {},
     "output_type": "execute_result"
    }
   ],
   "source": [
    "features = ['job','requirements','responsibilities','seniority','title']\n",
    "\n",
    "summary_scores = pd.DataFrame({'features':features,\n",
    "                               'rfc_mean_cvscore':[np.mean(rfc_cvscore_job),\n",
    "                                                   np.mean(rfc_cvscore_requirements),\n",
    "                                                   np.mean(rfc_cvscore_responsibilities),\n",
    "                                                   np.mean(rfc_cvscore_seniority),\n",
    "                                                   np.mean(rfc_cvscore_title)],\n",
    "                               'accuracy_score':[accuracyscore_job,\n",
    "                                                accuracyscore_requirements,\n",
    "                                                accuracyscore_responsibilities,\n",
    "                                                accuracyscore_seniority,\n",
    "                                                accuracyscore_title]})\n",
    "\n",
    "summary_scores"
   ]
  },
  {
   "cell_type": "markdown",
   "metadata": {},
   "source": [
    "### QUESTION 2: Factors that distinguish job category\n",
    "\n",
    "Using the job postings you scraped for part 1 (or potentially new job postings from a second round of scraping), identify features in the data related to job postings that can distinguish job titles from each other. There are a variety of interesting ways you can frame the target variable, for example:\n",
    "\n",
    "- What components of a job posting distinguish data scientists from other data jobs?\n",
    "- What features are important for distinguishing junior vs. senior positions?\n",
    "- Do the requirements for titles vary significantly with industry (e.g. healthcare vs. government)?\n",
    "\n",
    "You may end up making multiple classification models to tackle different questions. Be sure to clearly explain your hypotheses and framing, any feature engineering, and what your target variables are. The type of classification model you choose is up to you. Be sure to interpret your results and evaluate your models' performance."
   ]
  },
  {
   "cell_type": "code",
   "execution_count": 31,
   "metadata": {},
   "outputs": [
    {
     "name": "stdout",
     "output_type": "stream",
     "text": [
      "len data_index: 121 \n",
      "\n",
      "[0, 2, 3, 4, 5, 7, 8, 9, 10, 11] \n",
      "\n"
     ]
    },
    {
     "data": {
      "text/plain": [
       "data scientist                                                                                          64\n",
       "senior data scientist                                                                                   13\n",
       "data scientist 12 month contract                                                                         4\n",
       "senior data scientist, app store analytics - business & marketing                                        4\n",
       "senior analytics manager - data scientist                                                                3\n",
       "vp, data scientist, business analytics, consumer banking group (1800016v)                                3\n",
       "lead data scientist                                                                                      3\n",
       "senior data scientist (smallholder digital lab)                                                          2\n",
       "vp  /  avp, data scientist, investment and trading technology, technology and operations  (180002yf)     2\n",
       "svp / vp, lead data scientist, group consumer banking and big data analytics tech (180003y7)             2\n",
       "senior ai data scientist (generalist)                                                                    2\n",
       "assistant vice president, data scientist                                                                 2\n",
       "data scientist, technical services                                                                       2\n",
       "junior data scientist                                                                                    2\n",
       "mid level data scientist                                                                                 1\n",
       "senior level data scientist                                                                              1\n",
       "junior - mid level data scientist                                                                        1\n",
       "korean speaking data scientist                                                                           1\n",
       "marketing data scientist                                                                                 1\n",
       "it data scientist (generalist)                                                                           1\n",
       "senior data scientist (68722)                                                                            1\n",
       "data scientist (central / leading company)                                                               1\n",
       "mid - senior level data scientist                                                                        1\n",
       "data scientist (bioinformatics, imcb)                                                                    1\n",
       "svp / vp, senior data scientist, data & transformation, technology and operations (1800039x)             1\n",
       "facilities data scientist                                                                                1\n",
       "fac - global facilities senior data scientist                                                            1\n",
       "Name: job, dtype: int64"
      ]
     },
     "execution_count": 31,
     "metadata": {},
     "output_type": "execute_result"
    }
   ],
   "source": [
    "# looking for job titles with the words 'data scientist' in them\n",
    "data_index = []\n",
    "\n",
    "for i in range(jobs.shape[0]):\n",
    "    try:\n",
    "        if re.findall(r'\\bdata scientist\\b',jobs['job'][i])[0] == 'data scientist':\n",
    "            data_index.append(i)\n",
    "    except:\n",
    "        pass\n",
    "    \n",
    "print('len data_index: {}'.format(len(data_index)),'\\n')\n",
    "print(data_index[0:10],'\\n')\n",
    "\n",
    "# taking a look at 'job' feature's value_counts\n",
    "jobs.iloc[data_index,:]['job'].value_counts() "
   ]
  },
  {
   "cell_type": "markdown",
   "metadata": {},
   "source": [
    "## Creating decision boundary based on job titles that contain the word 'data scientist'\n",
    "    - Class of 1 is assigned to target if job title contains the word 'data scientist'\n",
    "    \n",
    "    - Class of 0 is assigned otherwise"
   ]
  },
  {
   "cell_type": "code",
   "execution_count": 32,
   "metadata": {},
   "outputs": [
    {
     "name": "stdout",
     "output_type": "stream",
     "text": [
      "jobs shape: (1877, 16)\n"
     ]
    }
   ],
   "source": [
    "# concat 'target_jobtitle' column to jobs df as target for job titles\n",
    "jobs['target_jobtitle'] = 0\n",
    "\n",
    "jobs.loc[data_index,'target_jobtitle'] = 1\n",
    "\n",
    "print('jobs shape: {}'.format(jobs.shape))"
   ]
  },
  {
   "cell_type": "code",
   "execution_count": 33,
   "metadata": {},
   "outputs": [
    {
     "name": "stdout",
     "output_type": "stream",
     "text": [
      "class 1 count: 121 \n",
      "\n",
      "class 0 count: 1756 \n",
      "\n",
      "proportion of class 1: 6.446457112413426 \n",
      "\n"
     ]
    },
    {
     "data": {
      "text/plain": [
       "<matplotlib.axes._subplots.AxesSubplot at 0x26ee6ab36d8>"
      ]
     },
     "execution_count": 33,
     "metadata": {},
     "output_type": "execute_result"
    },
    {
     "data": {
      "image/png": "[encoded data removed]",
      "text/plain": [
       "<Figure size 504x288 with 1 Axes>"
      ]
     },
     "metadata": {},
     "output_type": "display_data"
    }
   ],
   "source": [
    "# class imbalance issue for target_jobtitle column\n",
    "jobs['target_jobtitle'].value_counts()\n",
    "\n",
    "print('class 1 count: {}'.format(jobs['target_jobtitle'].value_counts()[1]),'\\n')\n",
    "print('class 0 count: {}'.format(jobs['target_jobtitle'].value_counts()[0]),'\\n')\n",
    "print('proportion of class 1: {}'.format(jobs['target_jobtitle'].value_counts()[1]/(jobs['target_jobtitle'].value_counts()[0]+jobs['target_jobtitle'].value_counts()[1])*100),'\\n')\n",
    "\n",
    "# plot the value_counts\n",
    "jobs['target_jobtitle'].value_counts().plot(kind='bar',title='count (target) - class imbalance',figsize=(7,4))"
   ]
  },
  {
   "cell_type": "code",
   "execution_count": 34,
   "metadata": {},
   "outputs": [
    {
     "name": "stdout",
     "output_type": "stream",
     "text": [
      "jobs1 shape: (121, 16) \n",
      "\n",
      "jobs0 shape: (1756, 16) \n",
      "\n",
      "1    1756\n",
      "0    1756\n",
      "Name: target_jobtitle, dtype: int64 \n",
      "\n",
      "jobs_over shape: (3512, 16) \n",
      "\n"
     ]
    },
    {
     "data": {
      "text/plain": [
       "<matplotlib.axes._subplots.AxesSubplot at 0x26eeac560b8>"
      ]
     },
     "execution_count": 34,
     "metadata": {},
     "output_type": "execute_result"
    },
    {
     "data": {
      "image/png": "[encoded data removed]",
      "text/plain": [
       "<Figure size 504x288 with 1 Axes>"
      ]
     },
     "metadata": {},
     "output_type": "display_data"
    }
   ],
   "source": [
    "# over-sampling from minority class of 1\n",
    "\n",
    "# class count\n",
    "count0,count1 = jobs['target_jobtitle'].value_counts()\n",
    "\n",
    "# divide jobs df by class\n",
    "jobs1 = jobs[jobs['target_jobtitle'] == 1]\n",
    "jobs0 = jobs[jobs['target_jobtitle'] == 0]\n",
    "\n",
    "print('jobs1 shape: {}'.format(jobs1.shape),'\\n')\n",
    "print('jobs0 shape: {}'.format(jobs0.shape),'\\n')\n",
    "\n",
    "jobs1_over = jobs1.sample(count0,replace=True)\n",
    "\n",
    "# concat jobs0 df which has target_jobtitle = 0 and jobs1_over df which has oversampled minority\n",
    "# class of 1\n",
    "jobs_over = pd.concat([jobs0,jobs1_over],axis=0)\n",
    "jobs_over.reset_index(drop=True,inplace=True)\n",
    "\n",
    "print(jobs_over['target_jobtitle'].value_counts(),'\\n')\n",
    "print('jobs_over shape: {}'.format(jobs_over.shape),'\\n')\n",
    "\n",
    "# plot value_counts - what happens after over-sampling\n",
    "jobs_over['target_jobtitle'].value_counts().plot(kind='bar',title='count (target) - after over-sampling',figsize=(7,4))"
   ]
  },
  {
   "cell_type": "markdown",
   "metadata": {},
   "source": [
    "## train test split by 80/20\n",
    "#### <font color='red'> requirements_text and target_jobtitle"
   ]
  },
  {
   "cell_type": "code",
   "execution_count": 35,
   "metadata": {},
   "outputs": [
    {
     "name": "stdout",
     "output_type": "stream",
     "text": [
      "xtrain_requirements shape: (2809,)\n",
      "ytrain_requirements shape: (2809,)\n",
      "\n",
      "xtest_requirements shape: (703,)\n",
      "ytest_requirements shape: (703,)\n"
     ]
    }
   ],
   "source": [
    "x = jobs_over['requirements']\n",
    "y = jobs_over['target_jobtitle']\n",
    "\n",
    "xtrain_requirements, xtest_requirements, ytrain_requirements, ytest_requirements\\\n",
    "= train_test_split(x,y,test_size=0.2,random_state=42)\n",
    "\n",
    "print('xtrain_requirements shape: {}'.format(xtrain_requirements.shape))\n",
    "print('ytrain_requirements shape: {}'.format(ytrain_requirements.shape))\n",
    "print('')\n",
    "print('xtest_requirements shape: {}'.format(xtest_requirements.shape))\n",
    "print('ytest_requirements shape: {}'.format(ytest_requirements.shape))"
   ]
  },
  {
   "cell_type": "markdown",
   "metadata": {},
   "source": [
    "## model fitting - randomforestclassifier\n",
    "#### <font color='red'> requirements_text and target_jobtitle"
   ]
  },
  {
   "cell_type": "code",
   "execution_count": 36,
   "metadata": {},
   "outputs": [
    {
     "name": "stdout",
     "output_type": "stream",
     "text": [
      "X_train shape: (2809, 7290) \n",
      "\n",
      "[0.99967299 1.         1.         0.99982264 1.         0.99959461\n",
      " 1.         0.99617269 1.         1.        ] \n",
      "\n",
      "requirements mean auc score: 0.9995262926602606 \n",
      "\n",
      "requirements accuracy score: 0.9971550497866287 \n",
      "\n",
      "\n",
      "[[371   2]\n",
      " [  0 330]] \n",
      "\n",
      "              precision    recall  f1-score   support\n",
      "\n",
      "           0       1.00      0.99      1.00       373\n",
      "           1       0.99      1.00      1.00       330\n",
      "\n",
      "   micro avg       1.00      1.00      1.00       703\n",
      "   macro avg       1.00      1.00      1.00       703\n",
      "weighted avg       1.00      1.00      1.00       703\n",
      " \n",
      "\n"
     ]
    }
   ],
   "source": [
    "cvec = CountVectorizer(stop_words='english')\n",
    "xtraindtm = cvec.fit_transform(xtrain_requirements)\n",
    "xtestdtm = cvec.transform(xtest_requirements)\n",
    "\n",
    "# creating dataframes after tokenizing and vectorizing our text features\n",
    "X_train = pd.DataFrame(xtraindtm.todense(),columns=[cvec.get_feature_names()])\n",
    "X_test = pd.DataFrame(xtestdtm.todense(),columns=[cvec.get_feature_names()])\n",
    "\n",
    "print('X_train shape: {}'.format(X_train.shape),'\\n')\n",
    "\n",
    "# model fitting\n",
    "rfc = RandomForestClassifier(n_estimators=100,random_state=42)\n",
    "rfc.fit(X_train,ytrain_requirements)\n",
    "\n",
    "y_pred = rfc.predict(X_test)\n",
    "\n",
    "# 10-folds cv\n",
    "rfc_cvscore_requirements = cross_val_score(rfc,X_train,ytrain_requirements,cv=10,scoring='roc_auc')\n",
    "print(rfc_cvscore_requirements,'\\n')\n",
    "print('requirements mean auc score: {}'.format(np.mean(rfc_cvscore_requirements)),'\\n')\n",
    "\n",
    "# accuracy score\n",
    "accuracyscore_requirements = accuracy_score(ytest_requirements,y_pred)\n",
    "print('requirements accuracy score: {}'.format(accuracyscore_requirements),'\\n')\n",
    "\n",
    "# confusion matrix\n",
    "print('')\n",
    "print(confusion_matrix(ytest_requirements, y_pred),'\\n')\n",
    "\n",
    "# classification report\n",
    "print(classification_report(ytest_requirements,y_pred),'\\n')"
   ]
  },
  {
   "cell_type": "markdown",
   "metadata": {},
   "source": [
    "## train test split by 80/20\n",
    "#### <font color='red'> responsibilities_text and target_jobtitle"
   ]
  },
  {
   "cell_type": "code",
   "execution_count": 37,
   "metadata": {},
   "outputs": [
    {
     "name": "stdout",
     "output_type": "stream",
     "text": [
      "xtrain_responsibilities shape: (2809,)\n",
      "ytrain_responsibilities shape: (2809,)\n",
      "\n",
      "xtest_responsibilities shape: (703,)\n",
      "ytest_responsibilities shape: (703,)\n"
     ]
    }
   ],
   "source": [
    "x = jobs_over['responsibilities']\n",
    "y = jobs_over['target_jobtitle']\n",
    "\n",
    "xtrain_responsibilities, xtest_responsibilities, ytrain_responsibilities, ytest_responsibilities\\\n",
    "= train_test_split(x,y,test_size=0.2,random_state=42)\n",
    "\n",
    "print('xtrain_responsibilities shape: {}'.format(xtrain_responsibilities.shape))\n",
    "print('ytrain_responsibilities shape: {}'.format(ytrain_responsibilities.shape))\n",
    "print('')\n",
    "print('xtest_responsibilities shape: {}'.format(xtest_responsibilities.shape))\n",
    "print('ytest_responsibilities shape: {}'.format(ytest_responsibilities.shape))"
   ]
  },
  {
   "cell_type": "markdown",
   "metadata": {},
   "source": [
    "## model fitting - randomforestclassifier\n",
    "#### <font color='red'> responsibilities_text and target_jobtitle"
   ]
  },
  {
   "cell_type": "code",
   "execution_count": 38,
   "metadata": {},
   "outputs": [
    {
     "name": "stdout",
     "output_type": "stream",
     "text": [
      "X_train shape: (2809, 9052) \n",
      "\n",
      "[0.99967299 1.         1.         0.99982264 1.         0.99959461\n",
      " 1.         0.99617269 1.         1.        ] \n",
      "\n",
      "responsibilities mean auc score: 0.9995262926602606 \n",
      "\n",
      "responsibilities accuracy score: 0.9971550497866287\n",
      "\n",
      "[[371   2]\n",
      " [  0 330]] \n",
      "\n",
      "              precision    recall  f1-score   support\n",
      "\n",
      "           0       1.00      0.99      1.00       373\n",
      "           1       0.99      1.00      1.00       330\n",
      "\n",
      "   micro avg       1.00      1.00      1.00       703\n",
      "   macro avg       1.00      1.00      1.00       703\n",
      "weighted avg       1.00      1.00      1.00       703\n",
      " \n",
      "\n"
     ]
    }
   ],
   "source": [
    "cvec = CountVectorizer(stop_words='english')\n",
    "xtraindtm = cvec.fit_transform(xtrain_responsibilities)\n",
    "xtestdtm = cvec.transform(xtest_responsibilities)\n",
    "\n",
    "# creating dataframes after tokenizing and vectorizing our text features\n",
    "X_train = pd.DataFrame(xtraindtm.todense(),columns=[cvec.get_feature_names()])\n",
    "X_test = pd.DataFrame(xtestdtm.todense(),columns=[cvec.get_feature_names()])\n",
    "\n",
    "print('X_train shape: {}'.format(X_train.shape),'\\n')\n",
    "\n",
    "# model fitting\n",
    "rfc = RandomForestClassifier(n_estimators=100,random_state=42)\n",
    "rfc.fit(X_train,ytrain_responsibilities)\n",
    "\n",
    "y_pred = rfc.predict(X_test)\n",
    "\n",
    "# 10-folds cv\n",
    "rfc_cvscore_responsibilities = cross_val_score(rfc,X_train,ytrain_responsibilities,cv=10,scoring='roc_auc')\n",
    "print(rfc_cvscore_responsibilities,'\\n')\n",
    "print('responsibilities mean auc score: {}'.format(np.mean(rfc_cvscore_responsibilities)),'\\n')\n",
    "\n",
    "# accuracy score\n",
    "accuracyscore_responsibilities = accuracy_score(ytest_responsibilities,y_pred)\n",
    "print('responsibilities accuracy score: {}'.format(accuracy_score(ytest_responsibilities,y_pred)))\n",
    "\n",
    "# confusion matrix\n",
    "print('')\n",
    "print(confusion_matrix(ytest_responsibilities, y_pred),'\\n')\n",
    "\n",
    "# classification report\n",
    "print(classification_report(ytest_responsibilities,y_pred),'\\n')"
   ]
  },
  {
   "cell_type": "markdown",
   "metadata": {},
   "source": [
    "## train test split by 80/20\n",
    "#### <font color='red'> seniority_text and target_jobtitle"
   ]
  },
  {
   "cell_type": "code",
   "execution_count": 39,
   "metadata": {},
   "outputs": [
    {
     "name": "stdout",
     "output_type": "stream",
     "text": [
      "xtrain_seniority shape: (2809,)\n",
      "ytrain_seniority shape: (2809,)\n",
      "\n",
      "xtest_seniority shape: (703,)\n",
      "ytest_seniority shape: (703,)\n"
     ]
    }
   ],
   "source": [
    "x = jobs_over['seniority']\n",
    "y = jobs_over['target_jobtitle']\n",
    "\n",
    "xtrain_seniority, xtest_seniority, ytrain_seniority, ytest_seniority\\\n",
    "= train_test_split(x,y,test_size=0.2,random_state=42)\n",
    "\n",
    "print('xtrain_seniority shape: {}'.format(xtrain_seniority.shape))\n",
    "print('ytrain_seniority shape: {}'.format(ytrain_seniority.shape))\n",
    "print('')\n",
    "print('xtest_seniority shape: {}'.format(xtest_seniority.shape))\n",
    "print('ytest_seniority shape: {}'.format(ytest_seniority.shape))"
   ]
  },
  {
   "cell_type": "markdown",
   "metadata": {},
   "source": [
    "## model fitting - randomforestclassifier\n",
    "#### <font color='red'> seniority_text and target_jobtitle"
   ]
  },
  {
   "cell_type": "code",
   "execution_count": 40,
   "metadata": {},
   "outputs": [
    {
     "name": "stdout",
     "output_type": "stream",
     "text": [
      "X_train shape: (2809, 12) \n",
      "\n",
      "[0.62574835 0.58980228 0.60102128 0.67403973 0.64958954 0.64087362\n",
      " 0.64457032 0.63382833 0.6427077  0.57935293] \n",
      "\n",
      "seniority mean auc score: 0.6281534083110826 \n",
      "\n",
      "seniority accuracy score: 0.566145092460882\n",
      "\n",
      "[[101 272]\n",
      " [ 33 297]] \n",
      "\n",
      "              precision    recall  f1-score   support\n",
      "\n",
      "           0       0.75      0.27      0.40       373\n",
      "           1       0.52      0.90      0.66       330\n",
      "\n",
      "   micro avg       0.57      0.57      0.57       703\n",
      "   macro avg       0.64      0.59      0.53       703\n",
      "weighted avg       0.64      0.57      0.52       703\n",
      " \n",
      "\n"
     ]
    }
   ],
   "source": [
    "cvec = CountVectorizer(stop_words='english')\n",
    "xtraindtm = cvec.fit_transform(xtrain_seniority)\n",
    "xtestdtm = cvec.transform(xtest_seniority)\n",
    "\n",
    "# creating dataframes after tokenizing and vectorizing our text features\n",
    "X_train = pd.DataFrame(xtraindtm.todense(),columns=[cvec.get_feature_names()])\n",
    "X_test = pd.DataFrame(xtestdtm.todense(),columns=[cvec.get_feature_names()])\n",
    "\n",
    "print('X_train shape: {}'.format(X_train.shape),'\\n')\n",
    "\n",
    "# model fitting\n",
    "rfc = RandomForestClassifier(n_estimators=100,random_state=42)\n",
    "rfc.fit(X_train,ytrain_seniority)\n",
    "\n",
    "y_pred = rfc.predict(X_test)\n",
    "\n",
    "# 10-folds cv\n",
    "rfc_cvscore_seniority = cross_val_score(rfc,X_train,ytrain_seniority,cv=10,scoring='roc_auc')\n",
    "print(rfc_cvscore_seniority,'\\n')\n",
    "print('seniority mean auc score: {}'.format(np.mean(rfc_cvscore_seniority)),'\\n')\n",
    "\n",
    "# accuracy score\n",
    "accuracyscore_seniority = accuracy_score(ytest_seniority,y_pred)\n",
    "print('seniority accuracy score: {}'.format(accuracyscore_seniority))\n",
    "\n",
    "# confusion matrix\n",
    "print('')\n",
    "print(confusion_matrix(ytest_seniority, y_pred),'\\n')\n",
    "\n",
    "# classification report\n",
    "print(classification_report(ytest_seniority,y_pred),'\\n')"
   ]
  },
  {
   "cell_type": "markdown",
   "metadata": {},
   "source": [
    "## train test split by 80/20\n",
    "#### <font color='red'> title_text and target_jobtitle"
   ]
  },
  {
   "cell_type": "code",
   "execution_count": 41,
   "metadata": {},
   "outputs": [
    {
     "name": "stdout",
     "output_type": "stream",
     "text": [
      "xtrain_title shape: (2809,)\n",
      "ytrain_title shape: (2809,)\n",
      "\n",
      "xtest_title shape: (703,)\n",
      "ytest_title shape: (703,)\n"
     ]
    }
   ],
   "source": [
    "x = jobs_over['title']\n",
    "y = jobs_over['target_jobtitle']\n",
    "\n",
    "xtrain_title, xtest_title, ytrain_title, ytest_title\\\n",
    "= train_test_split(x,y,test_size=0.2,random_state=42)\n",
    "\n",
    "print('xtrain_title shape: {}'.format(xtrain_title.shape))\n",
    "print('ytrain_title shape: {}'.format(ytrain_title.shape))\n",
    "print('')\n",
    "print('xtest_title shape: {}'.format(xtest_title.shape))\n",
    "print('ytest_title shape: {}'.format(ytest_title.shape))"
   ]
  },
  {
   "cell_type": "markdown",
   "metadata": {},
   "source": [
    "## model fitting - randomforestclassifier\n",
    "#### <font color='red'> title_text and target_jobtitle"
   ]
  },
  {
   "cell_type": "code",
   "execution_count": 42,
   "metadata": {},
   "outputs": [
    {
     "name": "stdout",
     "output_type": "stream",
     "text": [
      "X_train shape: (2809, 11) \n",
      "\n",
      "[0.89040097 0.89374654 0.87628918 0.85697274 0.88253775 0.87437924\n",
      " 0.86956522 0.84468769 0.86150235 0.87056032] \n",
      "\n",
      "title mean auc score: 0.8720641993678555 \n",
      "\n",
      "title accuracy score: 0.7923186344238976\n",
      "\n",
      "[[363  10]\n",
      " [136 194]] \n",
      "\n",
      "              precision    recall  f1-score   support\n",
      "\n",
      "           0       0.73      0.97      0.83       373\n",
      "           1       0.95      0.59      0.73       330\n",
      "\n",
      "   micro avg       0.79      0.79      0.79       703\n",
      "   macro avg       0.84      0.78      0.78       703\n",
      "weighted avg       0.83      0.79      0.78       703\n",
      " \n",
      "\n"
     ]
    }
   ],
   "source": [
    "cvec = CountVectorizer(stop_words='english')\n",
    "xtraindtm = cvec.fit_transform(xtrain_title)\n",
    "xtestdtm = cvec.transform(xtest_title)\n",
    "\n",
    "# creating dataframes after tokenizing and vectorizing our text features\n",
    "X_train = pd.DataFrame(xtraindtm.todense(),columns=[cvec.get_feature_names()])\n",
    "X_test = pd.DataFrame(xtestdtm.todense(),columns=[cvec.get_feature_names()])\n",
    "\n",
    "print('X_train shape: {}'.format(X_train.shape),'\\n')\n",
    "\n",
    "# model fitting\n",
    "rfc = RandomForestClassifier(n_estimators=100,random_state=42)\n",
    "rfc.fit(X_train,ytrain_title)\n",
    "\n",
    "y_pred = rfc.predict(X_test)\n",
    "\n",
    "# 10-folds cv\n",
    "rfc_cvscore_title = cross_val_score(rfc,X_train,ytrain_title,cv=10,scoring='roc_auc')\n",
    "print(rfc_cvscore_title,'\\n')\n",
    "print('title mean auc score: {}'.format(np.mean(rfc_cvscore_title)),'\\n')\n",
    "\n",
    "# accuracy score\n",
    "accuracyscore_title = accuracy_score(ytest_title,y_pred)\n",
    "print('title accuracy score: {}'.format(accuracyscore_title))\n",
    "\n",
    "# confusion matrix\n",
    "print('')\n",
    "print(confusion_matrix(ytest_title, y_pred),'\\n')\n",
    "\n",
    "# classification report\n",
    "print(classification_report(ytest_title,y_pred),'\\n')"
   ]
  },
  {
   "cell_type": "markdown",
   "metadata": {},
   "source": [
    "# Text features that can identify job title of 'data scientist' from others\n",
    "The roc-auc, precision and recall scores for RFC model of requirements_text and responsibilities_text predicting target_jobtitle (class 1: data scientist and class 0: others) are highly dubious. this is likely to due over-sampling of our minority class of 1, which caused overfitting of model.\n",
    "\n",
    "However, we are still going ahead and pick the RFC model of requirements_text being vectorized into text features to predict target_jobtitle to find out which are the features that appear the most that may help to predict classes of 1 and 0.\n",
    "\n",
    "The top twenty words that appear the most as text features from responsibilities_text are shown below."
   ]
  },
  {
   "cell_type": "code",
   "execution_count": 43,
   "metadata": {},
   "outputs": [
    {
     "data": {
      "text/plain": [
       "experience      9166\n",
       "data            7088\n",
       "skills          3706\n",
       "knowledge       2652\n",
       "years           2582\n",
       "science         2402\n",
       "learning        2369\n",
       "strong          2287\n",
       "analytics       2099\n",
       "requirements    1945\n",
       "computer        1939\n",
       "ability         1914\n",
       "business        1826\n",
       "working         1772\n",
       "tools           1704\n",
       "degree          1689\n",
       "machine         1639\n",
       "python          1607\n",
       "good            1583\n",
       "analysis        1525\n",
       "dtype: int64"
      ]
     },
     "execution_count": 43,
     "metadata": {},
     "output_type": "execute_result"
    }
   ],
   "source": [
    "# words that appear the most \n",
    "x = jobs_over['requirements']\n",
    "y = jobs_over['target_jobtitle']\n",
    "\n",
    "xtrain_requirements, xtest_requirements, ytrain_requirements, ytest_requirements\\\n",
    "= train_test_split(x,y,test_size=0.2,random_state=42)\n",
    "\n",
    "cvec = CountVectorizer(stop_words='english')\n",
    "xtraindtm = cvec.fit_transform(xtrain_requirements)\n",
    "xtestdtm = cvec.transform(xtest_requirements)\n",
    "\n",
    "# creating dataframes after tokenizing and vectorizing our text features\n",
    "X_train = pd.DataFrame(xtraindtm.todense(),columns=[cvec.get_feature_names()])\n",
    "X_test = pd.DataFrame(xtestdtm.todense(),columns=[cvec.get_feature_names()])\n",
    "\n",
    "word_counts = X_train.sum(axis=0)\n",
    "word_counts.sort_values(ascending=False).head(20)"
   ]
  },
  {
   "cell_type": "markdown",
   "metadata": {},
   "source": [
    "# Writeup\n",
    "\n",
    "Through the analysis of data-related job postings retrieved from https://www.mycareersfuture.sg/, our predictive model has about 85% chance of correctly predicting whether a job is a high-paying one or low-paying one. The decision boundary of defining a job as high-paying is when the actual salary is greater than or equal to SGD 6,500 (the median salary based on job postings) and a low-paying job is defined as actual salary lower than SGD 6,500. The model also describes that requirements and responsibilities of a job have the best predictive value to our model as compared to other fields such as job title and seniority.\n",
    "\n",
    "Moreover, we had came up with a second model that tries to predict if a job posting is looking to hire a data scientist and similarly, responsibilities of a job has the best predictive value. In this second model, words such as experience, data, skills, knowlege and years are our top five words that appear most frequently in our responsibilities section of a job posting. \n",
    "\n",
    "Although our second model did well in making predictions, it has its limitations in terms of having a greater chance of predicting that a job is likely to be hiring for a data scientist when it is not in reality. This is because in our job postings retrieved from website mentioned above, the number of such postings looking to hire data scientist are much lower than postings that are hiring for other data-related positions. As such, our data set of job postings were adjusted such that there is a better balance between both types of job postings. This adjustment may have given us the benefit of making pretty accurate predictions based on laboratory settings, however, when it's deployed in production, the model may not do as well because it has learned too well in lab and may not be able to generalize well in field settings."
   ]
  },
  {
   "cell_type": "markdown",
   "metadata": {},
   "source": [
    "### BONUS PROBLEM\n",
    "Your boss would rather tell a client incorrectly that they would get a lower salary job than tell a client incorrectly that they would get a high salary job. Adjust one of your models to ease his mind, and explain what it is doing and any tradeoffs. Plot the ROC curve."
   ]
  },
  {
   "cell_type": "code",
   "execution_count": null,
   "metadata": {},
   "outputs": [],
   "source": []
  }
 ],
 "metadata": {
  "kernelspec": {
   "display_name": "Python 3",
   "language": "python",
   "name": "python3"
  },
  "language_info": {
   "codemirror_mode": {
    "name": "ipython",
    "version": 3
   },
   "file_extension": ".py",
   "mimetype": "text/x-python",
   "name": "python",
   "nbconvert_exporter": "python",
   "pygments_lexer": "ipython3",
   "version": "3.6.5"
  }
 },
 "nbformat": 4,
 "nbformat_minor": 2
}
